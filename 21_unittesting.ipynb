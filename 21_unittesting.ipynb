{
  "nbformat": 4,
  "nbformat_minor": 0,
  "metadata": {
    "colab": {
      "provenance": []
    },
    "kernelspec": {
      "name": "python3",
      "display_name": "Python 3"
    },
    "language_info": {
      "name": "python"
    }
  },
  "cells": [
    {
      "cell_type": "markdown",
      "source": [
        "# Unit Testing\n",
        "\n",
        "Unit Testing bezeichnet das individuelle Testen jeder Einheit eines Systems. Der Zweck besteht darin, jeden Teil des Systems zu isolieren, um zu überprüfen, ob er wie spezifiziert funktioniert. Die Verwendung dieser Testart während der gesamten Implementierung kann die Anzahl der Fehler in der Anwendung reduzieren. Es funktioniert durch den Vergleich der Ausgabe einer zu testenden Funktion mit erwarteten Werten.\n",
        "\n",
        "Sehen Sie sich das folgende 2-minütige Video an, um ein klareres Verständnis über Unit Testing zu bekommen."
      ],
      "metadata": {
        "id": "QabXsRBLmL91"
      }
    },
    {
      "cell_type": "code",
      "source": [
        "from IPython.display import YouTubeVideo\n",
        "#https://www.youtube.com/watch?v=upzTwaVNZzs\n",
        "YouTubeVideo('upzTwaVNZzs')"
      ],
      "metadata": {
        "id": "ZlrVM_RcmP97"
      },
      "execution_count": null,
      "outputs": []
    },
    {
      "cell_type": "markdown",
      "source": [
        "## Praktische Übung\n",
        "\n",
        "Im Folgenden finden Sie eine einfache Taschenrechner-Klasse, die wir in diesem Tutorial verwenden werden.\n",
        "\n",
        "Das Python-Unit-Testing-Framework, das wir verwenden werden, heißt `unittest`, eines der bekanntesten Frameworks zum Testen von Python-Code."
      ],
      "metadata": {
        "id": "M527QZsZlk0k"
      }
    },
    {
      "cell_type": "code",
      "source": [
        "import unittest"
      ],
      "metadata": {
        "id": "2oyZHbQfmYr5"
      },
      "execution_count": null,
      "outputs": []
    },
    {
      "cell_type": "markdown",
      "source": [
        "Unser einfacher Taschenrechner hat nur vier Grundoperationen: Addition, Subtraktion, Multiplikation und Division."
      ],
      "metadata": {
        "id": "7D1ya38Smcxm"
      }
    },
    {
      "cell_type": "code",
      "source": [
        "class Calculator:\n",
        "    def __init__(self):\n",
        "        pass\n",
        "\n",
        "    def add(self, a, b):\n",
        "        return a + b\n",
        "\n",
        "    def sub(self, a, b):\n",
        "        return a - b\n",
        "\n",
        "    def mul(self, a, b):\n",
        "        return a * b\n",
        "\n",
        "    def div(self, a, b):\n",
        "        if b != 0:\n",
        "            return a / b"
      ],
      "metadata": {
        "id": "FidNwQxGm1uy"
      },
      "execution_count": null,
      "outputs": []
    },
    {
      "cell_type": "markdown",
      "source": [
        "Das Ziel ist sicherzustellen, dass jede Methode ordnungsgemäß funktioniert und bei zwei beliebigen Eingaben die richtige Ausgabe liefert.\n",
        "\n",
        "Ein Testfall wird durch Vererbung von `unittest.TestCase` erstellt."
      ],
      "metadata": {
        "id": "MpFQjgoQm7I3"
      }
    },
    {
      "cell_type": "code",
      "source": [
        "class TestCalculator(unittest.TestCase):\n",
        "\n",
        "    def test_add(self):\n",
        "        '''Test-Fallfunktion für Addition'''\n",
        "        self.calc = Calculator()\n",
        "        result = self.calc.add(4, 7)\n",
        "        expected = 11\n",
        "        self.assertEqual(result, expected)\n",
        "\n",
        "    def test_sub(self):\n",
        "        '''Test-Fallfunktion für Subtraktion'''\n",
        "        self.calc = Calculator()\n",
        "        result = self.calc.sub(10, 5)\n",
        "        expected = 5\n",
        "        self.assertEqual(result, expected)\n",
        "\n",
        "    @unittest.skip('Irgendein Grund')\n",
        "    def test_mul(self):\n",
        "        '''Test-Fallfunktion für Multiplikation'''\n",
        "        self.calc = Calculator()\n",
        "        result = self.calc.mul(3, 7)\n",
        "        expected = 21\n",
        "        self.assertEqual(result, expected)\n",
        "\n",
        "    def test_div(self):\n",
        "        '''Test-Fallfunktion für Division'''\n",
        "        self.calc = Calculator()\n",
        "        result = self.calc.div(10, 2)\n",
        "        expected = 4\n",
        "        self.assertEqual(result, expected)"
      ],
      "metadata": {
        "id": "C_2TYi8mpIKP"
      },
      "execution_count": null,
      "outputs": []
    },
    {
      "cell_type": "markdown",
      "source": [
        "Wir haben 4 Unit-Tests erstellt, wobei jeder eine Methode der Taschenrechner-Klasse überprüft. Diese Überprüfungen werden durch Aufrufe von `Assertions` durchgeführt, in diesem Fall die Funktion `assertEqual`. Beachten Sie, dass durch Markieren der Methode `test_mul` mit `@unittest.skip('Ihr_Grund')` der Test für diese Methode übersprungen wird.\n",
        "\n",
        "Um die Tests einfach auszuführen, verwenden Sie:\n",
        "\n",
        "```python\n",
        "unittest.main(argv=[''], verbosity=2, exit=False)\n",
        "```\n",
        "\n",
        "Nach der Ausführung sehen Sie etwas wie:\n",
        "\n",
        "```\n",
        "test_add (__main__.TestCalculator)\n",
        "Test-Fallfunktion für Addition ... ok\n",
        "test_div (__main__.TestCalculator)\n",
        "Test-Fallfunktion für Division ... FAIL\n",
        "test_mul (__main__.TestCalculator)\n",
        "Test-Fallfunktion für Multiplikation ... übersprungen 'Irgendein Grund'\n",
        "test_sub (__main__.TestCalculator)\n",
        "Test-Fallfunktion für Subtraktion ... ok\n",
        "```\n",
        "\n",
        "Wobei Addition und Subtraktion bestanden wurden, Multiplikation absichtlich übersprungen wurde und Division fehlgeschlagen ist.\n",
        "\n",
        "Unittest hat mehrere Funktionen, bekannt als `Assertions`, die für die Entwicklung von Unit-Tests nützlich sind. Einige sind: `assertNotEqual(a, b)`, `assertTrue(x)`, `assertFalse(x)`, `assertIs(a, b)`, `assertIsNot(a, b)`, `assertIsNone(x)` und viele mehr.\n",
        "\n",
        "## Ausnahmetests\n",
        "\n",
        "Wie die oben aufgeführten `assert*`-Funktionen gibt es auch die Funktion `assertRaises` zum Testen einer Ausnahme.\n",
        "\n",
        "Verwendung: `assertRaises(exception, callable, *args, **kwds)`\n",
        "\n",
        "Wobei `exception` der Ausnahmetyp ist, `callable` die zu testende Methode und `args` optionale Parameter sind, die an die `callable`-Methode übergeben werden.\n",
        "\n",
        "Lassen Sie uns die Divisionsoperation des Taschenrechners für eine praktische Verwendung von `assertRaises` ändern.\n"
      ],
      "metadata": {
        "id": "llC8kLJ4pNvD"
      }
    },
    {
      "cell_type": "code",
      "source": [
        "\n",
        "class Calculator:\n",
        "    def __init__(self):\n",
        "        pass\n",
        "\n",
        "    def add(self, a, b):\n",
        "        return a + b\n",
        "\n",
        "    def sub(self, a, b):\n",
        "        return a - b\n",
        "\n",
        "    def mul(self, a, b):\n",
        "        return a * b\n",
        "\n",
        "    def div(self, a, b):\n",
        "        if b == 0:\n",
        "            raise ZeroDivisionError(\"Der Divisor darf nicht Null sein\")\n",
        "        return a / b\n"
      ],
      "metadata": {
        "id": "C_QaHNSEpZ0-"
      },
      "execution_count": null,
      "outputs": []
    },
    {
      "cell_type": "markdown",
      "source": [
        "\n",
        "\n",
        "Wann immer `div` mit dem Divisor gleich 0 aufgerufen wird, wird ein Fehler ausgelöst. Überprüfen Sie dies durch Ausführen des folgenden Testfalls:\n"
      ],
      "metadata": {
        "id": "ZcT3pV9upent"
      }
    },
    {
      "cell_type": "code",
      "source": [
        "\n",
        "class TestCalculator(unittest.TestCase):\n",
        "\n",
        "    def test_div(self):\n",
        "        '''Stellen Sie sicher, dass ZeroDivisionError bei Bedarf ausgelöst wird'''\n",
        "        self.calc = Calculator()\n",
        "        self.assertRaises(ZeroDivisionError, self.calc.div, 10, 0)\n",
        "\n",
        "unittest.main(argv=[''], verbosity=2, exit=False)\n"
      ],
      "metadata": {
        "id": "Jwg5RJ1GpgvY"
      },
      "execution_count": null,
      "outputs": []
    },
    {
      "cell_type": "markdown",
      "source": [
        "\n",
        "\n",
        "Der Test besteht, weil 10 durch 0 tatsächlich eine `ZeroDivisionError`-Ausnahme auslöst.\n",
        "\n",
        "## Organisation von Testfällen\n",
        "\n",
        "Die Organisation von Testfällen ist wesentlich, um sie besser, unabhängiger zu machen und bei ihrer Wartung zu helfen. Dafür gibt es mehrere Standards für automatisierte Tests, die im Unit Testing verwendet werden können. Einige davon sind:\n",
        "\n",
        "### Organisation nach Instanzen\n",
        "\n",
        "Wie bereits gesehen, werden Unit-Testfälle durch `unittest.TestCase`-Instanzen dargestellt. Mit anderen Worten, wir haben nur eine Testklasse erstellt, die alle Tests ihrer Methoden enthält. Für eine gute Organisation des Testcodes ist es möglich, verschiedene Instanzen zu erstellen, wobei jede eine Reihe spezifischer Tests für eine einzelne Methode enthalten kann.\n",
        "\n",
        "Lassen Sie uns einen weiteren Testfall nur für die Division erstellen.\n"
      ],
      "metadata": {
        "id": "A5vpO_mjpkH1"
      }
    },
    {
      "cell_type": "code",
      "source": [
        "\n",
        "class TestCalcDiv(unittest.TestCase):\n",
        "\n",
        "    def test_div(self):\n",
        "        '''Test-Fallfunktion für Division'''\n",
        "        self.calc = Calculator()\n",
        "        self.assertEqual(self.calc.div(10, 5), 2)\n",
        "        self.assertEqual(self.calc.div(12, 2), 6)\n",
        "\n",
        "    def test_div_error(self):\n",
        "        '''Stellen Sie sicher, dass ZeroDivisionError bei Bedarf ausgelöst wird'''\n",
        "        self.calc = Calculator()\n",
        "        self.assertRaises(ZeroDivisionError, self.calc.div, 10, 0)\n",
        "\n",
        "unittest.main(argv=[''], defaultTest='TestCalcDiv', verbosity=2, exit=False)\n",
        "\n"
      ],
      "metadata": {
        "id": "875dIFXApmmt"
      },
      "execution_count": null,
      "outputs": []
    },
    {
      "cell_type": "markdown",
      "source": [
        "\n",
        "Der obige Testfall wird bestehen.\n",
        "\n"
      ],
      "metadata": {
        "id": "7Gfu_K-8pqdm"
      }
    },
    {
      "cell_type": "markdown",
      "source": [
        "### SetUp() und TearDown()\n",
        "\n",
        "Die Methoden setUp und tearDown sind ebenfalls nützlich bei der Organisation von Testfällen. Wenn ein `setUp` definiert ist, führt der Test-Runner diese Methode **vor** jedem Test aus. Ebenso wird, wenn ein `tearDown` definiert ist, der Test-Runner diese Methode **nach** jedem Test aufrufen.\n",
        "\n",
        "Wie Sie vielleicht bemerkt haben, erstellen wir in jeder zu testenden Methode eine Instanz von Calculator `self.calc = Calculator()`. Um Code-Wiederholungen zu vermeiden, können wir einfach die verfügbare Funktion `setUp` verwenden.\n",
        "\n",
        "Schauen Sie, wie unser Divisions-Testfall jetzt aussehen wird:\n"
      ],
      "metadata": {
        "id": "x5HdISZ3ptIE"
      }
    },
    {
      "cell_type": "code",
      "source": [
        "class TestCalcDiv(unittest.TestCase):\n",
        "\n",
        "    def setUp(self):\n",
        "        '''Richten Sie eine Instanz von Calculator vor jeder Testausführung ein'''\n",
        "        self.calc = Calculator()\n",
        "\n",
        "    def test_div(self):\n",
        "        '''Test-Fallfunktion für Division'''\n",
        "        self.assertEqual(self.calc.div(10, 5), 2)\n",
        "        self.assertEqual(self.calc.div(12, 2), 6)\n",
        "\n",
        "    def test_div_error(self):\n",
        "        '''Stellen Sie sicher, dass ZeroDivisionError bei Bedarf ausgelöst wird'''\n",
        "        self.assertRaises(ZeroDivisionError, self.calc.div, 10, 0)\n",
        "\n",
        "unittest.main(argv=[''], defaultTest='TestCalcDiv', verbosity=2, exit=False)\n"
      ],
      "metadata": {
        "id": "cycJbtBSpvzg"
      },
      "execution_count": null,
      "outputs": []
    },
    {
      "cell_type": "markdown",
      "source": [
        "Der Testfall sollte ohne Probleme bestehen. Sie können versuchen, Ihre eigene `tearDown`-Funktion in Colab zu erstellen.\n",
        "\n",
        "## Abschließende Betrachtung\n",
        "\n",
        "Testen wird nicht jeden Fehler im Programm aufdecken, da es nicht jeden Ausführungspfad in einem nichttrivialen Programm auswerten kann. Es kann keine Korrektheit beweisen. Dieses Problem ist eine Obermenge des Halteproblems, das unentscheidbar ist.\n",
        "\n",
        "## Referenzen\n",
        "\n",
        "1. [Unit Testing Framework](https://docs.python.org/3/library/unittest.html)"
      ],
      "metadata": {
        "id": "hiJfcvrDpyTM"
      }
    }
  ]
}